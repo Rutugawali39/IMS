{
  "nbformat": 4,
  "nbformat_minor": 0,
  "metadata": {
    "colab": {
      "name": "Final JSON based IMS.ipynb",
      "provenance": []
    },
    "kernelspec": {
      "name": "python3",
      "display_name": "Python 3"
    },
    "language_info": {
      "name": "python"
    }
  },
  "cells": [
    {
      "cell_type": "code",
      "metadata": {
        "id": "wi3G1kyK3rtD"
      },
      "source": [
        "Record = {1001:{'Name' :'Parle-G'       ,'Price':10    ,'Exp.date':'Jan22'    ,'Quantity':1000    ,'Discount':5 },\n",
        "          1002:{'Name' :'Parle-G'       ,'Price':50    ,'Exp.date':'Jan22'    ,'Quantity':2000    ,'Discount':5 },\n",
        "          1003:{'Name' :'Good-Day'      ,'Price':10    ,'Exp.date':'Dec21'    ,'Quantity':650     ,'Discount':2 },\n",
        "          1004:{'Name' :' Happy '       ,'Price':20    ,'Exp.date':'Feb22'    ,'Quantity':700     ,'Discount':10 },\n",
        "          1005:{'Name' :'MarriGold'     ,'Price':10    ,'Exp.date':'Nov21'    ,'Quantity':666     ,'Discount':7 },\n",
        "          1006:{'Name' :'CreamBuis'     ,'Price':55    ,'Exp.date':'Mar22'    ,'Quantity':987     ,'Discount':14 },\n",
        "          1007:{'Name' :'Momsmajic'     ,'Price':60    ,'Exp.date':'Dec22'    ,'Quantity':546     ,'Discount':5 },\n",
        "          1008:{'Name' :'Shantabai'     ,'Price':10    ,'Exp.date':'Dec24'    ,'Quantity':100     ,'Discount':2 },\n",
        "          1009:{'Name' :'SuparNirama'   ,'Price':55    ,'Exp.date':'Dec25'    ,'Quantity':540     ,'Discount':5 },\n",
        "          1010:{'Name' :'Sargam Soap'   ,'Price':110   ,'Exp.date':'Feb22'    ,'Quantity':5555    ,'Discount':10 },\n",
        "          1011:{'Name' :'Rin'           ,'Price':25    ,'Exp.date':'Apr24'    ,'Quantity':456     ,'Discount':4 },\n",
        "          1012:{'Name' :'Santoor'       ,'Price':50    ,'Exp.date':'Mar22'    ,'Quantity':987     ,'Discount':8 },\n",
        "          1013:{'Name' :'Lifeboy'       ,'Price':80    ,'Exp.date':'Feb21 '   ,'Quantity':6547    ,'Discount':8 },\n",
        "          1014:{'Name' :'Lux'           ,'Price':98    ,'Exp.date':'Jun25'    ,'Quantity':985     ,'Discount':6 },\n",
        "          1015:{'Name' :'Jonsons Baby'  ,'Price':85    ,'Exp.date':'Dec21'    ,'Quantity':55      ,'Discount':6 },\n",
        "          1016:{'Name' :'Detol'         ,'Price':75    ,'Exp.date':'Dec21'    ,'Quantity':963     ,'Discount':6 },\n",
        "          1017:{'Name' :'Haldi 1kg'     ,'Price':175   ,'Exp.date':'Nov22'    ,'Quantity':666     ,'Discount':15 },\n",
        "          1018:{'Name' :'Spice 1kg'     ,'Price':170   ,'Exp.date':'Nov23'    ,'Quantity':99      ,'Discount':20 },\n",
        "          1019:{'Name' :'Dhana Powdwer' ,'Price':150   ,'Exp.date':'Dec26'    ,'Quantity':998     ,'Discount':18 },\n",
        "          1020:{'Name' :'Everest Mas'   ,'Price':200   ,'Exp.date':'May22'    ,'Quantity':654     ,'Discount':22 },\n",
        "          1021:{'Name' :'Kaju'          ,'Price':780   ,'Exp.date':'Dec25'    ,'Quantity':900     ,'Discount':20 },\n",
        "          1022:{'Name' :'Badam'         ,'Price':820   ,'Exp.date':'Dec25'    ,'Quantity':950     ,'Discount':20 },\n",
        "          1023:{'Name' :'Kishmish'      ,'Price':150   ,'Exp.date':'Dec24'    ,'Quantity':922     ,'Discount':15 },\n",
        "          1024:{'Name' :'Akarod '       ,'Price':500   ,'Exp.date':'Jan30'    ,'Quantity':54      ,'Discount':25 },\n",
        "          1025:{'Name' :'Elayachi'      ,'Price':4000  ,'Exp.date':'Jan35'    ,'Quantity':800     ,'Discount':25 },\n",
        "          1026:{'Name' :'Mix Dryfruit'  ,'Price':1500  ,'Exp.date':'Aug24'    ,'Quantity':66      ,'Discount':18 },\n",
        "          1027:{'Name' :'Soyabean Oil'  ,'Price':2450  ,'Exp.date':'Sept23'   ,'Quantity':500     ,'Discount':20 },\n",
        "          1028:{'Name' :'Sarso Oil'     ,'Price':2500  ,'Exp.date':'Oct24'    ,'Quantity':205     ,'Discount':9 },\n",
        "          1029:{'Name' :'Suryaful oil'  ,'Price':3000  ,'Exp.date':'Nov30'    ,'Quantity':110     ,'Discount':15 },\n",
        "          1030:{'Name' :'Sugar'         ,'Price':3900  ,'Exp.date':'Jan23'    ,'Quantity':450     ,'Discount':30 }}"
      ],
      "execution_count": 1,
      "outputs": []
    },
    {
      "cell_type": "code",
      "metadata": {
        "id": "WvQXeckZ39SE"
      },
      "source": [
        "import json"
      ],
      "execution_count": 2,
      "outputs": []
    },
    {
      "cell_type": "code",
      "metadata": {
        "id": "s5y0jEZ34IPK"
      },
      "source": [
        "js = json.dumps(Record)"
      ],
      "execution_count": 3,
      "outputs": []
    },
    {
      "cell_type": "code",
      "metadata": {
        "colab": {
          "base_uri": "https://localhost:8080/",
          "height": 224
        },
        "id": "ivTedvHw4O8G",
        "outputId": "e8018b78-f9a0-40e0-c0ce-5e7080e73194"
      },
      "source": [
        "js"
      ],
      "execution_count": 4,
      "outputs": [
        {
          "output_type": "execute_result",
          "data": {
            "application/vnd.google.colaboratory.intrinsic+json": {
              "type": "string"
            },
            "text/plain": [
              "'{\"1001\": {\"Name\": \"Parle-G\", \"Price\": 10, \"Exp.date\": \"Jan22\", \"Quantity\": 1000, \"Discount\": 5}, \"1002\": {\"Name\": \"Parle-G\", \"Price\": 50, \"Exp.date\": \"Jan22\", \"Quantity\": 2000, \"Discount\": 5}, \"1003\": {\"Name\": \"Good-Day\", \"Price\": 10, \"Exp.date\": \"Dec21\", \"Quantity\": 650, \"Discount\": 2}, \"1004\": {\"Name\": \" Happy \", \"Price\": 20, \"Exp.date\": \"Feb22\", \"Quantity\": 700, \"Discount\": 10}, \"1005\": {\"Name\": \"MarriGold\", \"Price\": 10, \"Exp.date\": \"Nov21\", \"Quantity\": 666, \"Discount\": 7}, \"1006\": {\"Name\": \"CreamBuis\", \"Price\": 55, \"Exp.date\": \"Mar22\", \"Quantity\": 987, \"Discount\": 14}, \"1007\": {\"Name\": \"Momsmajic\", \"Price\": 60, \"Exp.date\": \"Dec22\", \"Quantity\": 546, \"Discount\": 5}, \"1008\": {\"Name\": \"Shantabai\", \"Price\": 10, \"Exp.date\": \"Dec24\", \"Quantity\": 100, \"Discount\": 2}, \"1009\": {\"Name\": \"SuparNirama\", \"Price\": 55, \"Exp.date\": \"Dec25\", \"Quantity\": 540, \"Discount\": 5}, \"1010\": {\"Name\": \"Sargam Soap\", \"Price\": 110, \"Exp.date\": \"Feb22\", \"Quantity\": 5555, \"Discount\": 10}, \"1011\": {\"Name\": \"Rin\", \"Price\": 25, \"Exp.date\": \"Apr24\", \"Quantity\": 456, \"Discount\": 4}, \"1012\": {\"Name\": \"Santoor\", \"Price\": 50, \"Exp.date\": \"Mar22\", \"Quantity\": 987, \"Discount\": 8}, \"1013\": {\"Name\": \"Lifeboy\", \"Price\": 80, \"Exp.date\": \"Feb21 \", \"Quantity\": 6547, \"Discount\": 8}, \"1014\": {\"Name\": \"Lux\", \"Price\": 98, \"Exp.date\": \"Jun25\", \"Quantity\": 985, \"Discount\": 6}, \"1015\": {\"Name\": \"Jonsons Baby\", \"Price\": 85, \"Exp.date\": \"Dec21\", \"Quantity\": 55, \"Discount\": 6}, \"1016\": {\"Name\": \"Detol\", \"Price\": 75, \"Exp.date\": \"Dec21\", \"Quantity\": 963, \"Discount\": 6}, \"1017\": {\"Name\": \"Haldi 1kg\", \"Price\": 175, \"Exp.date\": \"Nov22\", \"Quantity\": 666, \"Discount\": 15}, \"1018\": {\"Name\": \"Spice 1kg\", \"Price\": 170, \"Exp.date\": \"Nov23\", \"Quantity\": 99, \"Discount\": 20}, \"1019\": {\"Name\": \"Dhana Powdwer\", \"Price\": 150, \"Exp.date\": \"Dec26\", \"Quantity\": 998, \"Discount\": 18}, \"1020\": {\"Name\": \"Everest Mas\", \"Price\": 200, \"Exp.date\": \"May22\", \"Quantity\": 654, \"Discount\": 22}, \"1021\": {\"Name\": \"Kaju\", \"Price\": 780, \"Exp.date\": \"Dec25\", \"Quantity\": 900, \"Discount\": 20}, \"1022\": {\"Name\": \"Badam\", \"Price\": 820, \"Exp.date\": \"Dec25\", \"Quantity\": 950, \"Discount\": 20}, \"1023\": {\"Name\": \"Kishmish\", \"Price\": 150, \"Exp.date\": \"Dec24\", \"Quantity\": 922, \"Discount\": 15}, \"1024\": {\"Name\": \"Akarod \", \"Price\": 500, \"Exp.date\": \"Jan30\", \"Quantity\": 54, \"Discount\": 25}, \"1025\": {\"Name\": \"Elayachi\", \"Price\": 4000, \"Exp.date\": \"Jan35\", \"Quantity\": 800, \"Discount\": 25}, \"1026\": {\"Name\": \"Mix Dryfruit\", \"Price\": 1500, \"Exp.date\": \"Aug24\", \"Quantity\": 66, \"Discount\": 18}, \"1027\": {\"Name\": \"Soyabean Oil\", \"Price\": 2450, \"Exp.date\": \"Sept23\", \"Quantity\": 500, \"Discount\": 20}, \"1028\": {\"Name\": \"Sarso Oil\", \"Price\": 2500, \"Exp.date\": \"Oct24\", \"Quantity\": 205, \"Discount\": 9}, \"1029\": {\"Name\": \"Suryaful oil\", \"Price\": 3000, \"Exp.date\": \"Nov30\", \"Quantity\": 110, \"Discount\": 15}, \"1030\": {\"Name\": \"Sugar\", \"Price\": 3900, \"Exp.date\": \"Jan23\", \"Quantity\": 450, \"Discount\": 30}}'"
            ]
          },
          "metadata": {},
          "execution_count": 4
        }
      ]
    },
    {
      "cell_type": "code",
      "metadata": {
        "id": "RpvCmqlq4TpQ"
      },
      "source": [
        "fd = open(\"IMSRecord.json\",'w')\n",
        "\n",
        "fd.write(js)\n",
        "\n",
        "fd.close()"
      ],
      "execution_count": 5,
      "outputs": []
    },
    {
      "cell_type": "code",
      "metadata": {
        "id": "jCZs5StR4aHL"
      },
      "source": [
        "fd = open('IMSRecord.json','r')\n",
        "\n",
        "txt=fd.read()\n",
        "\n",
        "fd.close()"
      ],
      "execution_count": 6,
      "outputs": []
    },
    {
      "cell_type": "code",
      "metadata": {
        "colab": {
          "base_uri": "https://localhost:8080/",
          "height": 224
        },
        "id": "MjN82aQV4gAl",
        "outputId": "1bcb9962-c692-4a94-89a7-2218fe7987d7"
      },
      "source": [
        "txt"
      ],
      "execution_count": 7,
      "outputs": [
        {
          "output_type": "execute_result",
          "data": {
            "application/vnd.google.colaboratory.intrinsic+json": {
              "type": "string"
            },
            "text/plain": [
              "'{\"1001\": {\"Name\": \"Parle-G\", \"Price\": 10, \"Exp.date\": \"Jan22\", \"Quantity\": 1000, \"Discount\": 5}, \"1002\": {\"Name\": \"Parle-G\", \"Price\": 50, \"Exp.date\": \"Jan22\", \"Quantity\": 2000, \"Discount\": 5}, \"1003\": {\"Name\": \"Good-Day\", \"Price\": 10, \"Exp.date\": \"Dec21\", \"Quantity\": 650, \"Discount\": 2}, \"1004\": {\"Name\": \" Happy \", \"Price\": 20, \"Exp.date\": \"Feb22\", \"Quantity\": 700, \"Discount\": 10}, \"1005\": {\"Name\": \"MarriGold\", \"Price\": 10, \"Exp.date\": \"Nov21\", \"Quantity\": 666, \"Discount\": 7}, \"1006\": {\"Name\": \"CreamBuis\", \"Price\": 55, \"Exp.date\": \"Mar22\", \"Quantity\": 987, \"Discount\": 14}, \"1007\": {\"Name\": \"Momsmajic\", \"Price\": 60, \"Exp.date\": \"Dec22\", \"Quantity\": 546, \"Discount\": 5}, \"1008\": {\"Name\": \"Shantabai\", \"Price\": 10, \"Exp.date\": \"Dec24\", \"Quantity\": 100, \"Discount\": 2}, \"1009\": {\"Name\": \"SuparNirama\", \"Price\": 55, \"Exp.date\": \"Dec25\", \"Quantity\": 540, \"Discount\": 5}, \"1010\": {\"Name\": \"Sargam Soap\", \"Price\": 110, \"Exp.date\": \"Feb22\", \"Quantity\": 5555, \"Discount\": 10}, \"1011\": {\"Name\": \"Rin\", \"Price\": 25, \"Exp.date\": \"Apr24\", \"Quantity\": 456, \"Discount\": 4}, \"1012\": {\"Name\": \"Santoor\", \"Price\": 50, \"Exp.date\": \"Mar22\", \"Quantity\": 987, \"Discount\": 8}, \"1013\": {\"Name\": \"Lifeboy\", \"Price\": 80, \"Exp.date\": \"Feb21 \", \"Quantity\": 6547, \"Discount\": 8}, \"1014\": {\"Name\": \"Lux\", \"Price\": 98, \"Exp.date\": \"Jun25\", \"Quantity\": 985, \"Discount\": 6}, \"1015\": {\"Name\": \"Jonsons Baby\", \"Price\": 85, \"Exp.date\": \"Dec21\", \"Quantity\": 55, \"Discount\": 6}, \"1016\": {\"Name\": \"Detol\", \"Price\": 75, \"Exp.date\": \"Dec21\", \"Quantity\": 963, \"Discount\": 6}, \"1017\": {\"Name\": \"Haldi 1kg\", \"Price\": 175, \"Exp.date\": \"Nov22\", \"Quantity\": 666, \"Discount\": 15}, \"1018\": {\"Name\": \"Spice 1kg\", \"Price\": 170, \"Exp.date\": \"Nov23\", \"Quantity\": 99, \"Discount\": 20}, \"1019\": {\"Name\": \"Dhana Powdwer\", \"Price\": 150, \"Exp.date\": \"Dec26\", \"Quantity\": 998, \"Discount\": 18}, \"1020\": {\"Name\": \"Everest Mas\", \"Price\": 200, \"Exp.date\": \"May22\", \"Quantity\": 654, \"Discount\": 22}, \"1021\": {\"Name\": \"Kaju\", \"Price\": 780, \"Exp.date\": \"Dec25\", \"Quantity\": 900, \"Discount\": 20}, \"1022\": {\"Name\": \"Badam\", \"Price\": 820, \"Exp.date\": \"Dec25\", \"Quantity\": 950, \"Discount\": 20}, \"1023\": {\"Name\": \"Kishmish\", \"Price\": 150, \"Exp.date\": \"Dec24\", \"Quantity\": 922, \"Discount\": 15}, \"1024\": {\"Name\": \"Akarod \", \"Price\": 500, \"Exp.date\": \"Jan30\", \"Quantity\": 54, \"Discount\": 25}, \"1025\": {\"Name\": \"Elayachi\", \"Price\": 4000, \"Exp.date\": \"Jan35\", \"Quantity\": 800, \"Discount\": 25}, \"1026\": {\"Name\": \"Mix Dryfruit\", \"Price\": 1500, \"Exp.date\": \"Aug24\", \"Quantity\": 66, \"Discount\": 18}, \"1027\": {\"Name\": \"Soyabean Oil\", \"Price\": 2450, \"Exp.date\": \"Sept23\", \"Quantity\": 500, \"Discount\": 20}, \"1028\": {\"Name\": \"Sarso Oil\", \"Price\": 2500, \"Exp.date\": \"Oct24\", \"Quantity\": 205, \"Discount\": 9}, \"1029\": {\"Name\": \"Suryaful oil\", \"Price\": 3000, \"Exp.date\": \"Nov30\", \"Quantity\": 110, \"Discount\": 15}, \"1030\": {\"Name\": \"Sugar\", \"Price\": 3900, \"Exp.date\": \"Jan23\", \"Quantity\": 450, \"Discount\": 30}}'"
            ]
          },
          "metadata": {},
          "execution_count": 7
        }
      ]
    },
    {
      "cell_type": "code",
      "metadata": {
        "id": "imp-7wVH4lfb"
      },
      "source": [
        "product = json.loads(txt)"
      ],
      "execution_count": 8,
      "outputs": []
    },
    {
      "cell_type": "code",
      "metadata": {
        "colab": {
          "base_uri": "https://localhost:8080/"
        },
        "id": "xPYWh6J04sXT",
        "outputId": "63003b24-3586-4ea8-b95a-f0839e1cf2e1"
      },
      "source": [
        "product"
      ],
      "execution_count": 9,
      "outputs": [
        {
          "output_type": "execute_result",
          "data": {
            "text/plain": [
              "{'1001': {'Discount': 5,\n",
              "  'Exp.date': 'Jan22',\n",
              "  'Name': 'Parle-G',\n",
              "  'Price': 10,\n",
              "  'Quantity': 1000},\n",
              " '1002': {'Discount': 5,\n",
              "  'Exp.date': 'Jan22',\n",
              "  'Name': 'Parle-G',\n",
              "  'Price': 50,\n",
              "  'Quantity': 2000},\n",
              " '1003': {'Discount': 2,\n",
              "  'Exp.date': 'Dec21',\n",
              "  'Name': 'Good-Day',\n",
              "  'Price': 10,\n",
              "  'Quantity': 650},\n",
              " '1004': {'Discount': 10,\n",
              "  'Exp.date': 'Feb22',\n",
              "  'Name': ' Happy ',\n",
              "  'Price': 20,\n",
              "  'Quantity': 700},\n",
              " '1005': {'Discount': 7,\n",
              "  'Exp.date': 'Nov21',\n",
              "  'Name': 'MarriGold',\n",
              "  'Price': 10,\n",
              "  'Quantity': 666},\n",
              " '1006': {'Discount': 14,\n",
              "  'Exp.date': 'Mar22',\n",
              "  'Name': 'CreamBuis',\n",
              "  'Price': 55,\n",
              "  'Quantity': 987},\n",
              " '1007': {'Discount': 5,\n",
              "  'Exp.date': 'Dec22',\n",
              "  'Name': 'Momsmajic',\n",
              "  'Price': 60,\n",
              "  'Quantity': 546},\n",
              " '1008': {'Discount': 2,\n",
              "  'Exp.date': 'Dec24',\n",
              "  'Name': 'Shantabai',\n",
              "  'Price': 10,\n",
              "  'Quantity': 100},\n",
              " '1009': {'Discount': 5,\n",
              "  'Exp.date': 'Dec25',\n",
              "  'Name': 'SuparNirama',\n",
              "  'Price': 55,\n",
              "  'Quantity': 540},\n",
              " '1010': {'Discount': 10,\n",
              "  'Exp.date': 'Feb22',\n",
              "  'Name': 'Sargam Soap',\n",
              "  'Price': 110,\n",
              "  'Quantity': 5555},\n",
              " '1011': {'Discount': 4,\n",
              "  'Exp.date': 'Apr24',\n",
              "  'Name': 'Rin',\n",
              "  'Price': 25,\n",
              "  'Quantity': 456},\n",
              " '1012': {'Discount': 8,\n",
              "  'Exp.date': 'Mar22',\n",
              "  'Name': 'Santoor',\n",
              "  'Price': 50,\n",
              "  'Quantity': 987},\n",
              " '1013': {'Discount': 8,\n",
              "  'Exp.date': 'Feb21 ',\n",
              "  'Name': 'Lifeboy',\n",
              "  'Price': 80,\n",
              "  'Quantity': 6547},\n",
              " '1014': {'Discount': 6,\n",
              "  'Exp.date': 'Jun25',\n",
              "  'Name': 'Lux',\n",
              "  'Price': 98,\n",
              "  'Quantity': 985},\n",
              " '1015': {'Discount': 6,\n",
              "  'Exp.date': 'Dec21',\n",
              "  'Name': 'Jonsons Baby',\n",
              "  'Price': 85,\n",
              "  'Quantity': 55},\n",
              " '1016': {'Discount': 6,\n",
              "  'Exp.date': 'Dec21',\n",
              "  'Name': 'Detol',\n",
              "  'Price': 75,\n",
              "  'Quantity': 963},\n",
              " '1017': {'Discount': 15,\n",
              "  'Exp.date': 'Nov22',\n",
              "  'Name': 'Haldi 1kg',\n",
              "  'Price': 175,\n",
              "  'Quantity': 666},\n",
              " '1018': {'Discount': 20,\n",
              "  'Exp.date': 'Nov23',\n",
              "  'Name': 'Spice 1kg',\n",
              "  'Price': 170,\n",
              "  'Quantity': 99},\n",
              " '1019': {'Discount': 18,\n",
              "  'Exp.date': 'Dec26',\n",
              "  'Name': 'Dhana Powdwer',\n",
              "  'Price': 150,\n",
              "  'Quantity': 998},\n",
              " '1020': {'Discount': 22,\n",
              "  'Exp.date': 'May22',\n",
              "  'Name': 'Everest Mas',\n",
              "  'Price': 200,\n",
              "  'Quantity': 654},\n",
              " '1021': {'Discount': 20,\n",
              "  'Exp.date': 'Dec25',\n",
              "  'Name': 'Kaju',\n",
              "  'Price': 780,\n",
              "  'Quantity': 900},\n",
              " '1022': {'Discount': 20,\n",
              "  'Exp.date': 'Dec25',\n",
              "  'Name': 'Badam',\n",
              "  'Price': 820,\n",
              "  'Quantity': 950},\n",
              " '1023': {'Discount': 15,\n",
              "  'Exp.date': 'Dec24',\n",
              "  'Name': 'Kishmish',\n",
              "  'Price': 150,\n",
              "  'Quantity': 922},\n",
              " '1024': {'Discount': 25,\n",
              "  'Exp.date': 'Jan30',\n",
              "  'Name': 'Akarod ',\n",
              "  'Price': 500,\n",
              "  'Quantity': 54},\n",
              " '1025': {'Discount': 25,\n",
              "  'Exp.date': 'Jan35',\n",
              "  'Name': 'Elayachi',\n",
              "  'Price': 4000,\n",
              "  'Quantity': 800},\n",
              " '1026': {'Discount': 18,\n",
              "  'Exp.date': 'Aug24',\n",
              "  'Name': 'Mix Dryfruit',\n",
              "  'Price': 1500,\n",
              "  'Quantity': 66},\n",
              " '1027': {'Discount': 20,\n",
              "  'Exp.date': 'Sept23',\n",
              "  'Name': 'Soyabean Oil',\n",
              "  'Price': 2450,\n",
              "  'Quantity': 500},\n",
              " '1028': {'Discount': 9,\n",
              "  'Exp.date': 'Oct24',\n",
              "  'Name': 'Sarso Oil',\n",
              "  'Price': 2500,\n",
              "  'Quantity': 205},\n",
              " '1029': {'Discount': 15,\n",
              "  'Exp.date': 'Nov30',\n",
              "  'Name': 'Suryaful oil',\n",
              "  'Price': 3000,\n",
              "  'Quantity': 110},\n",
              " '1030': {'Discount': 30,\n",
              "  'Exp.date': 'Jan23',\n",
              "  'Name': 'Sugar',\n",
              "  'Price': 3900,\n",
              "  'Quantity': 450}}"
            ]
          },
          "metadata": {},
          "execution_count": 9
        }
      ]
    },
    {
      "cell_type": "code",
      "metadata": {
        "id": "mmFOl6x64vUP"
      },
      "source": [
        "import time"
      ],
      "execution_count": 10,
      "outputs": []
    },
    {
      "cell_type": "code",
      "metadata": {
        "colab": {
          "base_uri": "https://localhost:8080/"
        },
        "id": "5xJT79Jf43yC",
        "outputId": "c68d0629-e7bb-4f0f-c611-a150f375cc66"
      },
      "source": [
        "print(\"*****WELCOME TO THE SHOP*****\")\n",
        "\n",
        "ui_name=input('Enter the User Name :')\n",
        "\n",
        "print(product)\n",
        "\n",
        "ui_prod = str(input(\"Enter the product ID :\"))\n",
        "\n",
        "ui_quan = int(input(\"Enter the Quantity :\"))\n",
        "\n",
        "if(ui_prod in product):\n",
        "  print('Date and Time :',time.ctime())\n",
        "  print('Name of custmer :',ui_name)\n",
        "  print('Name of selected product ID :',product[ui_prod]['Name'])\n",
        "  print('Price of selected product Id :',product[ui_prod]['Price'])\n",
        "  print('*****CONGRATULATION YOU HAVE OWN DISCOUNT ON THIS PRODUCT*****')\n",
        "  print('Discount :',product[ui_prod]['Discount'])\n",
        "  print('*****PRINTING BILLING AMOUNT*****')\n",
        "  gen_bill=(product[ui_prod]['Price']*ui_quan)-((product[ui_prod]['Price']*ui_quan)*product[ui_prod]['Discount'])/100\n",
        "  print('Billing Amount :',gen_bill)\n",
        "  print(\"Thank you for visting our shop\")\n",
        "  \n",
        "\n",
        "  product[ui_prod]['Quantuty']=product[ui_prod]['Quantity']-ui_quan"
      ],
      "execution_count": 346,
      "outputs": [
        {
          "output_type": "stream",
          "name": "stdout",
          "text": [
            "*****WELCOME TO THE SHOP*****\n",
            "Enter the User Name :ooopo\n",
            "{'1001': {'Name': 'Parle-G', 'Price': 10, 'Exp.date': 'Jan22', 'Quantity': 1000, 'Discount': 5}, '1002': {'Name': 'Parle-G', 'Price': 50, 'Exp.date': 'Jan22', 'Quantity': 2000, 'Discount': 5, 'Quantuty': 1998}, '1003': {'Name': 'Good-Day', 'Price': 10, 'Exp.date': 'Dec21', 'Quantity': 650, 'Discount': 2, 'Quantuty': 647}, '1004': {'Name': ' Happy ', 'Price': 20, 'Exp.date': 'Feb22', 'Quantity': 700, 'Discount': 10, 'Quantuty': 696}, '1005': {'Name': 'MarriGold', 'Price': 10, 'Exp.date': 'Nov21', 'Quantity': 666, 'Discount': 7, 'Quantuty': 661}, '1006': {'Name': 'CreamBuis', 'Price': 55, 'Exp.date': 'Mar22', 'Quantity': 987, 'Discount': 14, 'Quantuty': 981}, '1007': {'Name': 'Momsmajic', 'Price': 60, 'Exp.date': 'Dec22', 'Quantity': 546, 'Discount': 5, 'Quantuty': 539}, '1008': {'Name': 'Shantabai', 'Price': 10, 'Exp.date': 'Dec24', 'Quantity': 100, 'Discount': 2, 'Quantuty': 92}, '1009': {'Name': 'SuparNirama', 'Price': 55, 'Exp.date': 'Dec25', 'Quantity': 540, 'Discount': 5, 'Quantuty': 531}, '1010': {'Name': 'Sargam Soap', 'Price': 110, 'Exp.date': 'Feb22', 'Quantity': 5555, 'Discount': 10, 'Quantuty': 5545}, '1011': {'Name': 'Rin', 'Price': 25, 'Exp.date': 'Apr24', 'Quantity': 456, 'Discount': 4, 'Quantuty': 445}, '1012': {'Name': 'Santoor', 'Price': 50, 'Exp.date': 'Mar22', 'Quantity': 987, 'Discount': 8, 'Quantuty': 975}, '1013': {'Name': 'Lifeboy', 'Price': 80, 'Exp.date': 'Feb21 ', 'Quantity': 6547, 'Discount': 8, 'Quantuty': 6534}, '1014': {'Name': 'Lux', 'Price': 98, 'Exp.date': 'Jun25', 'Quantity': 985, 'Discount': 6, 'Quantuty': 971}, '1015': {'Name': 'Jonsons Baby', 'Price': 85, 'Exp.date': 'Dec21', 'Quantity': 55, 'Discount': 6, 'Quantuty': 40}, '1016': {'Name': 'Detol', 'Price': 75, 'Exp.date': 'Dec21', 'Quantity': 963, 'Discount': 6, 'Quantuty': 947}, '1017': {'Name': 'Haldi 1kg', 'Price': 175, 'Exp.date': 'Nov22', 'Quantity': 666, 'Discount': 15, 'Quantuty': 649}, '1018': {'Name': 'Spice 1kg', 'Price': 170, 'Exp.date': 'Nov23', 'Quantity': 99, 'Discount': 20, 'Quantuty': 81}, '1019': {'Name': 'Dhana Powdwer', 'Price': 150, 'Exp.date': 'Dec26', 'Quantity': 998, 'Discount': 18, 'Quantuty': 979}, '1020': {'Name': 'Everest Mas', 'Price': 200, 'Exp.date': 'May22', 'Quantity': 654, 'Discount': 22, 'Quantuty': 634}, '1021': {'Name': 'Kaju', 'Price': 780, 'Exp.date': 'Dec25', 'Quantity': 900, 'Discount': 20, 'Quantuty': 879}, '1022': {'Name': 'Badam', 'Price': 820, 'Exp.date': 'Dec25', 'Quantity': 950, 'Discount': 20, 'Quantuty': 928}, '1023': {'Name': 'Kishmish', 'Price': 150, 'Exp.date': 'Dec24', 'Quantity': 922, 'Discount': 15, 'Quantuty': 917}, '1024': {'Name': 'Akarod ', 'Price': 500, 'Exp.date': 'Jan30', 'Quantity': 54, 'Discount': 25, 'Quantuty': 50}, '1025': {'Name': 'Elayachi', 'Price': 4000, 'Exp.date': 'Jan35', 'Quantity': 800, 'Discount': 25}, '1026': {'Name': 'Mix Dryfruit', 'Price': 1500, 'Exp.date': 'Aug24', 'Quantity': 66, 'Discount': 18, 'Quantuty': 60}, '1027': {'Name': 'Soyabean Oil', 'Price': 2450, 'Exp.date': 'Sept23', 'Quantity': 500, 'Discount': 20, 'Quantuty': 493}, '1028': {'Name': 'Sarso Oil', 'Price': 2500, 'Exp.date': 'Oct24', 'Quantity': 205, 'Discount': 9, 'Quantuty': 197}, '1029': {'Name': 'Suryaful oil', 'Price': 3000, 'Exp.date': 'Nov30', 'Quantity': 110, 'Discount': 15, 'Quantuty': 102}, '1030': {'Name': 'Sugar', 'Price': 3900, 'Exp.date': 'Jan23', 'Quantity': 450, 'Discount': 30}}\n",
            "Enter the product ID :1030\n",
            "Enter the Quantity :3\n",
            "Date and Time : Mon Sep  6 09:39:56 2021\n",
            "Name of custmer : ooopo\n",
            "Name of selected product ID : Sugar\n",
            "Price of selected product Id : 3900\n",
            "*****CONGRATULATION YOU HAVE OWN DISCOUNT ON THIS PRODUCT*****\n",
            "Discount : 30\n",
            "*****PRINTING BILLING AMOUNT*****\n",
            "Billing Amount : 8190.0\n",
            "Thank you for visting our shop\n"
          ]
        }
      ]
    },
    {
      "cell_type": "code",
      "metadata": {
        "id": "qQ6y0pOa4-yv"
      },
      "source": [
        "import random"
      ],
      "execution_count": 348,
      "outputs": []
    },
    {
      "cell_type": "code",
      "metadata": {
        "id": "z_wxNz055VHK"
      },
      "source": [
        "trans_ID = random.uniform(1 , 100000)"
      ],
      "execution_count": 349,
      "outputs": []
    },
    {
      "cell_type": "code",
      "metadata": {
        "id": "5ixOTKrr5ZDB"
      },
      "source": [
        "Transaction={'trans_ID':trans_ID  ,'product':product[ui_prod]['Name']  ,'price':product[ui_prod]['Price']  ,'Quantity':ui_quan  ,'gen_bill':(product[ui_prod]['Price']*ui_quan)-((product[ui_prod]['Price']*ui_quan)*product[ui_prod]['Discount'])/100}"
      ],
      "execution_count": 350,
      "outputs": []
    },
    {
      "cell_type": "code",
      "metadata": {
        "colab": {
          "base_uri": "https://localhost:8080/"
        },
        "id": "dvpSfAW35ffo",
        "outputId": "38165c58-5aa7-4217-9313-4f43ce8bcd66"
      },
      "source": [
        "\n",
        "Transaction"
      ],
      "execution_count": 351,
      "outputs": [
        {
          "output_type": "execute_result",
          "data": {
            "text/plain": [
              "{'Quantity': 3,\n",
              " 'gen_bill': 8190.0,\n",
              " 'price': 3900,\n",
              " 'product': 'Sugar',\n",
              " 'trans_ID': 42491.61223579011}"
            ]
          },
          "metadata": {},
          "execution_count": 351
        }
      ]
    },
    {
      "cell_type": "code",
      "metadata": {
        "id": "MRGs1pR05iHv"
      },
      "source": [
        "ts = json.dumps(Transaction)"
      ],
      "execution_count": 352,
      "outputs": []
    },
    {
      "cell_type": "code",
      "metadata": {
        "id": "gISQ5dF75qwM"
      },
      "source": [
        "ts = ts + '\\n'"
      ],
      "execution_count": 353,
      "outputs": []
    },
    {
      "cell_type": "code",
      "metadata": {
        "colab": {
          "base_uri": "https://localhost:8080/",
          "height": 55
        },
        "id": "Wg6Np0IN9jiX",
        "outputId": "96777613-2f0f-4090-eca3-117effaaabee"
      },
      "source": [
        "ts"
      ],
      "execution_count": 354,
      "outputs": [
        {
          "output_type": "execute_result",
          "data": {
            "application/vnd.google.colaboratory.intrinsic+json": {
              "type": "string"
            },
            "text/plain": [
              "'{\"trans_ID\": 42491.61223579011, \"product\": \"Sugar\", \"price\": 3900, \"Quantity\": 3, \"gen_bill\": 8190.0}\\n'"
            ]
          },
          "metadata": {},
          "execution_count": 354
        }
      ]
    },
    {
      "cell_type": "code",
      "metadata": {
        "id": "HYEBJv295th7"
      },
      "source": [
        "fd = open(\"IMSsales.json\",'a')\n",
        "\n",
        "fd.write(ts)\n",
        "\n",
        "fd.close()"
      ],
      "execution_count": 355,
      "outputs": []
    },
    {
      "cell_type": "code",
      "metadata": {
        "id": "J6mDY3B050su"
      },
      "source": [
        "fd = open('IMSsales.json','r')\n",
        "\n",
        "txt = fd.read()\n",
        "\n",
        "fd.close()"
      ],
      "execution_count": 356,
      "outputs": []
    },
    {
      "cell_type": "code",
      "metadata": {
        "colab": {
          "base_uri": "https://localhost:8080/",
          "height": 224
        },
        "id": "YnsyV1s0WUrA",
        "outputId": "a61e9306-a4e7-4b96-b267-c3c564dd8fa6"
      },
      "source": [
        "txt"
      ],
      "execution_count": 357,
      "outputs": [
        {
          "output_type": "execute_result",
          "data": {
            "application/vnd.google.colaboratory.intrinsic+json": {
              "type": "string"
            },
            "text/plain": [
              "'{\"trans_ID\": 90581.33762809729, \"product\": \"Lux\", \"price\": 98, \"Quantity\": 2, \"gen_bill\": 184.24}\\n{\"trans_ID\": 95213.87750746102, \"product\": \"Parle-G\", \"price\": 50, \"Quantity\": 2, \"gen_bill\": 95.0}\\n{\"trans_ID\": 39902.246304880086, \"product\": \"Good-Day\", \"price\": 10, \"Quantity\": 3, \"gen_bill\": 29.4}\\n{\"trans_ID\": 37442.79693575941, \"product\": \" Happy \", \"price\": 20, \"Quantity\": 4, \"gen_bill\": 72.0}\\n{\"trans_ID\": 47736.54371912461, \"product\": \"MarriGold\", \"price\": 10, \"Quantity\": 5, \"gen_bill\": 46.5}\\n{\"trans_ID\": 71207.25736176269, \"product\": \"CreamBuis\", \"price\": 55, \"Quantity\": 6, \"gen_bill\": 283.8}\\n{\"trans_ID\": 97364.57306004026, \"product\": \"Momsmajic\", \"price\": 60, \"Quantity\": 7, \"gen_bill\": 399.0}\\n{\"trans_ID\": 40716.97086945786, \"product\": \"Shantabai\", \"price\": 10, \"Quantity\": 8, \"gen_bill\": 78.4}\\n{\"trans_ID\": 39525.570319705395, \"product\": \"SuparNirama\", \"price\": 55, \"Quantity\": 9, \"gen_bill\": 470.25}\\n{\"trans_ID\": 87622.35976854453, \"product\": \"Sargam Soap\", \"price\": 110, \"Quantity\": 10, \"gen_bill\": 990.0}\\n{\"trans_ID\": 56865.59888683824, \"product\": \"Rin\", \"price\": 25, \"Quantity\": 11, \"gen_bill\": 264.0}\\n{\"trans_ID\": 39653.98296225, \"product\": \"Santoor\", \"price\": 50, \"Quantity\": 12, \"gen_bill\": 552.0}\\n{\"trans_ID\": 71593.86785563565, \"product\": \"Lifeboy\", \"price\": 80, \"Quantity\": 13, \"gen_bill\": 956.8}\\n{\"trans_ID\": 60462.59220618509, \"product\": \"Lux\", \"price\": 98, \"Quantity\": 14, \"gen_bill\": 1289.68}\\n{\"trans_ID\": 75032.19465793288, \"product\": \"Jonsons Baby\", \"price\": 85, \"Quantity\": 15, \"gen_bill\": 1198.5}\\n{\"trans_ID\": 91129.88651977175, \"product\": \"Detol\", \"price\": 75, \"Quantity\": 16, \"gen_bill\": 1128.0}\\n{\"trans_ID\": 77519.40119642079, \"product\": \"Haldi 1kg\", \"price\": 175, \"Quantity\": 17, \"gen_bill\": 2528.75}\\n{\"trans_ID\": 86406.11449170523, \"product\": \"Spice 1kg\", \"price\": 170, \"Quantity\": 18, \"gen_bill\": 2448.0}\\n{\"trans_ID\": 49461.124368513985, \"product\": \"Dhana Powdwer\", \"price\": 150, \"Quantity\": 19, \"gen_bill\": 2337.0}\\n{\"trans_ID\": 7251.420146080191, \"product\": \"Everest Mas\", \"price\": 200, \"Quantity\": 20, \"gen_bill\": 3120.0}\\n{\"trans_ID\": 91161.38287663236, \"product\": \"Kaju\", \"price\": 780, \"Quantity\": 21, \"gen_bill\": 13104.0}\\n{\"trans_ID\": 38052.25258852317, \"product\": \"Badam\", \"price\": 820, \"Quantity\": 22, \"gen_bill\": 14432.0}\\n{\"trans_ID\": 40811.45872823024, \"product\": \"Kishmish\", \"price\": 150, \"Quantity\": 5, \"gen_bill\": 637.5}\\n{\"trans_ID\": 35483.92638634016, \"product\": \"Akarod \", \"price\": 500, \"Quantity\": 4, \"gen_bill\": 1500.0}\\n{\"trans_ID\": 15827.39127820819, \"product\": \"Mix Dryfruit\", \"price\": 1500, \"Quantity\": 6, \"gen_bill\": 7380.0}\\n{\"trans_ID\": 91173.94540148707, \"product\": \"Soyabean Oil\", \"price\": 2450, \"Quantity\": 7, \"gen_bill\": 13720.0}\\n{\"trans_ID\": 60269.0730680624, \"product\": \"Sarso Oil\", \"price\": 2500, \"Quantity\": 8, \"gen_bill\": 18200.0}\\n{\"trans_ID\": 66226.73883971105, \"product\": \"Suryaful oil\", \"price\": 3000, \"Quantity\": 8, \"gen_bill\": 20400.0}\\n{\"trans_ID\": 42491.61223579011, \"product\": \"Sugar\", \"price\": 3900, \"Quantity\": 3, \"gen_bill\": 8190.0}\\n'"
            ]
          },
          "metadata": {},
          "execution_count": 357
        }
      ]
    },
    {
      "cell_type": "code",
      "metadata": {
        "colab": {
          "base_uri": "https://localhost:8080/"
        },
        "id": "oy8-5fN7Wjtv",
        "outputId": "7457c579-cb82-404f-8cbf-36f753fd5cf3"
      },
      "source": [
        "txt.split('\\n')"
      ],
      "execution_count": 358,
      "outputs": [
        {
          "output_type": "execute_result",
          "data": {
            "text/plain": [
              "['{\"trans_ID\": 90581.33762809729, \"product\": \"Lux\", \"price\": 98, \"Quantity\": 2, \"gen_bill\": 184.24}',\n",
              " '{\"trans_ID\": 95213.87750746102, \"product\": \"Parle-G\", \"price\": 50, \"Quantity\": 2, \"gen_bill\": 95.0}',\n",
              " '{\"trans_ID\": 39902.246304880086, \"product\": \"Good-Day\", \"price\": 10, \"Quantity\": 3, \"gen_bill\": 29.4}',\n",
              " '{\"trans_ID\": 37442.79693575941, \"product\": \" Happy \", \"price\": 20, \"Quantity\": 4, \"gen_bill\": 72.0}',\n",
              " '{\"trans_ID\": 47736.54371912461, \"product\": \"MarriGold\", \"price\": 10, \"Quantity\": 5, \"gen_bill\": 46.5}',\n",
              " '{\"trans_ID\": 71207.25736176269, \"product\": \"CreamBuis\", \"price\": 55, \"Quantity\": 6, \"gen_bill\": 283.8}',\n",
              " '{\"trans_ID\": 97364.57306004026, \"product\": \"Momsmajic\", \"price\": 60, \"Quantity\": 7, \"gen_bill\": 399.0}',\n",
              " '{\"trans_ID\": 40716.97086945786, \"product\": \"Shantabai\", \"price\": 10, \"Quantity\": 8, \"gen_bill\": 78.4}',\n",
              " '{\"trans_ID\": 39525.570319705395, \"product\": \"SuparNirama\", \"price\": 55, \"Quantity\": 9, \"gen_bill\": 470.25}',\n",
              " '{\"trans_ID\": 87622.35976854453, \"product\": \"Sargam Soap\", \"price\": 110, \"Quantity\": 10, \"gen_bill\": 990.0}',\n",
              " '{\"trans_ID\": 56865.59888683824, \"product\": \"Rin\", \"price\": 25, \"Quantity\": 11, \"gen_bill\": 264.0}',\n",
              " '{\"trans_ID\": 39653.98296225, \"product\": \"Santoor\", \"price\": 50, \"Quantity\": 12, \"gen_bill\": 552.0}',\n",
              " '{\"trans_ID\": 71593.86785563565, \"product\": \"Lifeboy\", \"price\": 80, \"Quantity\": 13, \"gen_bill\": 956.8}',\n",
              " '{\"trans_ID\": 60462.59220618509, \"product\": \"Lux\", \"price\": 98, \"Quantity\": 14, \"gen_bill\": 1289.68}',\n",
              " '{\"trans_ID\": 75032.19465793288, \"product\": \"Jonsons Baby\", \"price\": 85, \"Quantity\": 15, \"gen_bill\": 1198.5}',\n",
              " '{\"trans_ID\": 91129.88651977175, \"product\": \"Detol\", \"price\": 75, \"Quantity\": 16, \"gen_bill\": 1128.0}',\n",
              " '{\"trans_ID\": 77519.40119642079, \"product\": \"Haldi 1kg\", \"price\": 175, \"Quantity\": 17, \"gen_bill\": 2528.75}',\n",
              " '{\"trans_ID\": 86406.11449170523, \"product\": \"Spice 1kg\", \"price\": 170, \"Quantity\": 18, \"gen_bill\": 2448.0}',\n",
              " '{\"trans_ID\": 49461.124368513985, \"product\": \"Dhana Powdwer\", \"price\": 150, \"Quantity\": 19, \"gen_bill\": 2337.0}',\n",
              " '{\"trans_ID\": 7251.420146080191, \"product\": \"Everest Mas\", \"price\": 200, \"Quantity\": 20, \"gen_bill\": 3120.0}',\n",
              " '{\"trans_ID\": 91161.38287663236, \"product\": \"Kaju\", \"price\": 780, \"Quantity\": 21, \"gen_bill\": 13104.0}',\n",
              " '{\"trans_ID\": 38052.25258852317, \"product\": \"Badam\", \"price\": 820, \"Quantity\": 22, \"gen_bill\": 14432.0}',\n",
              " '{\"trans_ID\": 40811.45872823024, \"product\": \"Kishmish\", \"price\": 150, \"Quantity\": 5, \"gen_bill\": 637.5}',\n",
              " '{\"trans_ID\": 35483.92638634016, \"product\": \"Akarod \", \"price\": 500, \"Quantity\": 4, \"gen_bill\": 1500.0}',\n",
              " '{\"trans_ID\": 15827.39127820819, \"product\": \"Mix Dryfruit\", \"price\": 1500, \"Quantity\": 6, \"gen_bill\": 7380.0}',\n",
              " '{\"trans_ID\": 91173.94540148707, \"product\": \"Soyabean Oil\", \"price\": 2450, \"Quantity\": 7, \"gen_bill\": 13720.0}',\n",
              " '{\"trans_ID\": 60269.0730680624, \"product\": \"Sarso Oil\", \"price\": 2500, \"Quantity\": 8, \"gen_bill\": 18200.0}',\n",
              " '{\"trans_ID\": 66226.73883971105, \"product\": \"Suryaful oil\", \"price\": 3000, \"Quantity\": 8, \"gen_bill\": 20400.0}',\n",
              " '{\"trans_ID\": 42491.61223579011, \"product\": \"Sugar\", \"price\": 3900, \"Quantity\": 3, \"gen_bill\": 8190.0}',\n",
              " '']"
            ]
          },
          "metadata": {},
          "execution_count": 358
        }
      ]
    },
    {
      "cell_type": "code",
      "metadata": {
        "id": "qKlw4wy5ZZsA"
      },
      "source": [
        ""
      ],
      "execution_count": 249,
      "outputs": []
    }
  ]
}